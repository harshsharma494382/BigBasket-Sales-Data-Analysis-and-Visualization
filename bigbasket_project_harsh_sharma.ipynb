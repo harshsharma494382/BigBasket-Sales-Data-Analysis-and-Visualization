{
 "cells": [
  {
   "cell_type": "markdown",
   "id": "51552a93",
   "metadata": {},
   "source": [
    "### Image display"
   ]
  },
  {
   "cell_type": "code",
   "execution_count": null,
   "id": "589428bd",
   "metadata": {},
   "outputs": [],
   "source": [
    "from IPython.display import Image\n",
    "Image('download.png')"
   ]
  },
  {
   "cell_type": "markdown",
   "id": "cbb5caf8",
   "metadata": {},
   "source": [
    "### Import libraries"
   ]
  },
  {
   "cell_type": "code",
   "execution_count": null,
   "id": "f76a069e",
   "metadata": {},
   "outputs": [],
   "source": [
    "import pandas as pd\n",
    "import numpy as np\n",
    "import matplotlib.pyplot as plt\n",
    "import seaborn as sns"
   ]
  },
  {
   "cell_type": "markdown",
   "id": "c9c4c1c1",
   "metadata": {},
   "source": [
    "### Load dataset"
   ]
  },
  {
   "cell_type": "code",
   "execution_count": null,
   "id": "23b407af",
   "metadata": {},
   "outputs": [],
   "source": [
    "df=pd.read_csv('/content/BigBasket Products.csv')\n",
    "df"
   ]
  },
  {
   "cell_type": "markdown",
   "id": "5c8243bc",
   "metadata": {},
   "source": [
    "### Top 12 products"
   ]
  },
  {
   "cell_type": "code",
   "execution_count": null,
   "id": "cace3c90",
   "metadata": {},
   "outputs": [],
   "source": [
    "df['product'].value_counts().head(12)"
   ]
  },
  {
   "cell_type": "markdown",
   "id": "11cdad2b",
   "metadata": {},
   "source": [
    "### Data description"
   ]
  },
  {
   "cell_type": "code",
   "execution_count": null,
   "id": "2efe0e80",
   "metadata": {},
   "outputs": [],
   "source": [
    "df.describe()"
   ]
  },
  {
   "cell_type": "markdown",
   "id": "bc94d0ad",
   "metadata": {},
   "source": [
    "### Data info"
   ]
  },
  {
   "cell_type": "code",
   "execution_count": null,
   "id": "1fdc4176",
   "metadata": {},
   "outputs": [],
   "source": [
    "df.info()"
   ]
  },
  {
   "cell_type": "markdown",
   "id": "09eeab4f",
   "metadata": {},
   "source": [
    "### Top 5 selling products"
   ]
  },
  {
   "cell_type": "code",
   "execution_count": null,
   "id": "3d1e5bd4",
   "metadata": {},
   "outputs": [],
   "source": [
    "df['product'].value_counts().head(5)"
   ]
  },
  {
   "cell_type": "markdown",
   "id": "9bbbb20e",
   "metadata": {},
   "source": [
    "### Least 5 selling products"
   ]
  },
  {
   "cell_type": "code",
   "execution_count": null,
   "id": "a15bb806",
   "metadata": {},
   "outputs": [],
   "source": [
    "df['product'].value_counts().tail(5)"
   ]
  },
  {
   "cell_type": "markdown",
   "id": "a7c4a754",
   "metadata": {},
   "source": [
    "### Calculate discount"
   ]
  },
  {
   "cell_type": "code",
   "execution_count": null,
   "id": "32e438ca",
   "metadata": {},
   "outputs": [],
   "source": [
    "df['Discount_percentage'] = (((df['market_price'] - df['sale_price']) / df['market_price']) * 100).round(2)\n",
    "df"
   ]
  },
  {
   "cell_type": "markdown",
   "id": "3a4e5752",
   "metadata": {},
   "source": [
    "### Missing values"
   ]
  },
  {
   "cell_type": "code",
   "execution_count": null,
   "id": "2c66388b",
   "metadata": {},
   "outputs": [],
   "source": [
    "df.isnull().sum()"
   ]
  },
  {
   "cell_type": "markdown",
   "id": "1c0c5263",
   "metadata": {},
   "source": [
    "### Missing product values"
   ]
  },
  {
   "cell_type": "code",
   "execution_count": null,
   "id": "09a8a6ec",
   "metadata": {},
   "outputs": [],
   "source": [
    "df[df['product'].isnull()]"
   ]
  },
  {
   "cell_type": "markdown",
   "id": "ad4d992c",
   "metadata": {},
   "source": [
    "### Missing brand values"
   ]
  },
  {
   "cell_type": "code",
   "execution_count": null,
   "id": "d431d7cf",
   "metadata": {},
   "outputs": [],
   "source": [
    "df[df['brand'].isnull()]"
   ]
  },
  {
   "cell_type": "markdown",
   "id": "98af9e61",
   "metadata": {},
   "source": [
    "### Missing sale_price values"
   ]
  },
  {
   "cell_type": "code",
   "execution_count": null,
   "id": "23e7398c",
   "metadata": {},
   "outputs": [],
   "source": [
    "df[df['sale_price'].isnull()]"
   ]
  },
  {
   "cell_type": "markdown",
   "id": "fbecdb54",
   "metadata": {},
   "source": [
    "### Missing rating values"
   ]
  },
  {
   "cell_type": "code",
   "execution_count": null,
   "id": "d1fa8d82",
   "metadata": {},
   "outputs": [],
   "source": [
    "df[df['rating'].isnull()]"
   ]
  },
  {
   "cell_type": "markdown",
   "id": "b256152b",
   "metadata": {},
   "source": [
    "### Missing description values"
   ]
  },
  {
   "cell_type": "code",
   "execution_count": null,
   "id": "3a5a252b",
   "metadata": {},
   "outputs": [],
   "source": [
    "df[df['description'].isnull()]"
   ]
  },
  {
   "cell_type": "markdown",
   "id": "5cb1a05e",
   "metadata": {},
   "source": [
    "### Missing Discount_percentage values"
   ]
  },
  {
   "cell_type": "code",
   "execution_count": null,
   "id": "714d9941",
   "metadata": {},
   "outputs": [],
   "source": [
    "df[df['Discount_percentage'].isnull()]"
   ]
  },
  {
   "cell_type": "markdown",
   "id": "fbf2b9b5",
   "metadata": {},
   "source": [
    "### Clean missing values"
   ]
  },
  {
   "cell_type": "code",
   "execution_count": null,
   "id": "f1f24c0f",
   "metadata": {},
   "outputs": [],
   "source": [
    "df['product']=df['product'].fillna(df['product'].mode()[0])\n",
    "df['sale_price']=df['sale_price'].fillna(df['sale_price'].median())\n",
    "df['brand']=df['brand'].fillna(df['brand'].mode()[0])\n",
    "df['rating']=df['rating'].fillna(df['rating'].median())\n",
    "df['description']=df['description'].fillna(df['description'].mode()[0])\n",
    "df['Discount_percentage']=df['Discount_percentage'].fillna(df['Discount_percentage'].median())\n",
    "df.isnull().sum()"
   ]
  },
  {
   "cell_type": "markdown",
   "id": "4c7889e3",
   "metadata": {},
   "source": [
    "### Select numeric columns"
   ]
  },
  {
   "cell_type": "code",
   "execution_count": null,
   "id": "d289f1b7",
   "metadata": {},
   "outputs": [],
   "source": [
    "numeric = df.select_dtypes(include=['int', 'float'])\n",
    "numeric"
   ]
  },
  {
   "cell_type": "markdown",
   "id": "6777a68f",
   "metadata": {},
   "source": [
    "### Function to count outliers"
   ]
  },
  {
   "cell_type": "code",
   "execution_count": null,
   "id": "9e82f367",
   "metadata": {},
   "outputs": [],
   "source": [
    "def select_outliers(data):\n",
    "    q1 = data.quantile(.25)\n",
    "    q3 = data.quantile(.75)\n",
    "    iqr = q3 - q1\n",
    "    upper = q3 + 1.5 * iqr\n",
    "    lower = q1 - 1.5 * iqr\n",
    "    outliers = data[(data < lower) | (data > upper)]\n",
    "    return outliers.count()"
   ]
  },
  {
   "cell_type": "markdown",
   "id": "58b6e5d2",
   "metadata": {},
   "source": [
    "### Count outliers"
   ]
  },
  {
   "cell_type": "code",
   "execution_count": null,
   "id": "771d1560",
   "metadata": {},
   "outputs": [],
   "source": [
    "numeric_colm = ['sale_price', 'market_price', 'rating', 'Discount_percentage']\n",
    "outliers_count = {col: select_outliers(df[col]) for col in numeric_colm}\n",
    "outliers_count"
   ]
  },
  {
   "cell_type": "markdown",
   "id": "7f88ceb6",
   "metadata": {},
   "source": [
    "### Function to replace outliers"
   ]
  },
  {
   "cell_type": "code",
   "execution_count": null,
   "id": "a6bbb1bc",
   "metadata": {},
   "outputs": [],
   "source": [
    "def replace_outliers(df, colm):\n",
    "    q1 = df[colm].quantile(.25)\n",
    "    q3 = df[colm].quantile(.75)\n",
    "    iqr = q3 - q1\n",
    "    upper = q3 + 1.5 * iqr\n",
    "    lower = q1 - 1.5 * iqr\n",
    "    df.loc[(df[colm] < lower) | (df[colm] > upper), colm] = df[colm].mean()\n",
    "    return df"
   ]
  },
  {
   "cell_type": "markdown",
   "id": "3df5f9d2",
   "metadata": {},
   "source": [
    "### Apply outlier replacement"
   ]
  },
  {
   "cell_type": "code",
   "execution_count": null,
   "id": "f9e1e451",
   "metadata": {},
   "outputs": [],
   "source": [
    "df = replace_outliers(df, 'sale_price')\n",
    "df = replace_outliers(df, 'market_price')\n",
    "df = replace_outliers(df, 'rating')\n",
    "df = replace_outliers(df, 'Discount_percentage')"
   ]
  },
  {
   "cell_type": "markdown",
   "id": "cdd665e2",
   "metadata": {},
   "source": [
    "### Boxplots after cleaning"
   ]
  },
  {
   "cell_type": "code",
   "execution_count": null,
   "id": "d159489f",
   "metadata": {},
   "outputs": [],
   "source": [
    "sns.boxplot(data=df, x='sale_price')\n",
    "plt.show()\n",
    "sns.boxplot(data=df, x='market_price')\n",
    "plt.show()\n",
    "sns.boxplot(data=df, x='rating')\n",
    "plt.show()\n",
    "sns.boxplot(data=df, x='Discount_percentage')\n",
    "plt.show()"
   ]
  },
  {
   "cell_type": "markdown",
   "id": "54463a3e",
   "metadata": {},
   "source": [
    "### Category counts"
   ]
  },
  {
   "cell_type": "code",
   "execution_count": null,
   "id": "2c3e651e",
   "metadata": {},
   "outputs": [],
   "source": [
    "df['category'].value_counts()"
   ]
  },
  {
   "cell_type": "markdown",
   "id": "95d9eb07",
   "metadata": {},
   "source": [
    "### Bar plot per category"
   ]
  },
  {
   "cell_type": "code",
   "execution_count": null,
   "id": "72133fad",
   "metadata": {},
   "outputs": [],
   "source": [
    "data = df['category'].value_counts()\n",
    "sns.barplot(x=data.index, y=data.values, color='skyblue')\n",
    "plt.xticks(rotation=75)\n",
    "plt.xlabel('Category')\n",
    "plt.ylabel('No. of Products')\n",
    "plt.title('No. of Products per Category')\n",
    "plt.tight_layout()\n",
    "plt.show()"
   ]
  },
  {
   "cell_type": "markdown",
   "id": "589c83ea",
   "metadata": {},
   "source": [
    "### Histograms"
   ]
  },
  {
   "cell_type": "code",
   "execution_count": null,
   "id": "3831d17d",
   "metadata": {},
   "outputs": [],
   "source": [
    "df[['sale_price','market_price','rating','Discount_percentage']].hist(bins=15, figsize=(10,6), grid=False, rwidth=0.8, color='purple')\n",
    "plt.show()"
   ]
  },
  {
   "cell_type": "markdown",
   "id": "026bcdae",
   "metadata": {},
   "source": [
    "### Top 10 selling products"
   ]
  },
  {
   "cell_type": "code",
   "execution_count": null,
   "id": "7998881c",
   "metadata": {},
   "outputs": [],
   "source": [
    "counts = df['product'].value_counts()\n",
    "counts_p = pd.DataFrame({'product': counts.index, 'Counts': counts.values})[:10]\n",
    "bx = sns.barplot(x='product', y='Counts', data=counts_p, color='brown')\n",
    "plt.xticks(rotation=75, ha='right')\n",
    "bx.set_xlabel('Products')\n",
    "bx.set_ylabel('No. of Products')\n",
    "bx.set_title('Top 10 selling products by Volume')\n",
    "for p in bx.patches:\n",
    "    bx.annotate(f'{int(p.get_height())}', (p.get_x() + p.get_width() / 2., p.get_height()),\n",
    "                 ha='center', va='baseline', fontsize=10, color='black', xytext=(0, 4), textcoords='offset points')\n",
    "plt.tight_layout()\n",
    "plt.show()"
   ]
  },
  {
   "cell_type": "markdown",
   "id": "50ccde1c",
   "metadata": {},
   "source": [
    "### Top 5 selling brands"
   ]
  },
  {
   "cell_type": "code",
   "execution_count": null,
   "id": "fef948f1",
   "metadata": {},
   "outputs": [],
   "source": [
    "counts = df['brand'].value_counts()\n",
    "counts_b = pd.DataFrame({'brand': counts.index, 'Counts': counts.values})[:5]\n",
    "cx = sns.barplot(x='brand', y='Counts', data=counts_b, color='lightblue')\n",
    "cx.set_xlabel('Brand')\n",
    "cx.set_title('Top 5 selling brands by Volume')\n",
    "for p in cx.patches:\n",
    "    cx.annotate(f'{int(p.get_height())}', (p.get_x() + p.get_width() / 2., p.get_height()),\n",
    "                 ha='center', va='baseline', fontsize=10, color='black', xytext=(0, 4), textcoords='offset points')\n",
    "plt.tight_layout()\n",
    "plt.show()"
   ]
  },
  {
   "cell_type": "markdown",
   "id": "bf817d5c",
   "metadata": {},
   "source": [
    "### Top 5 rated products"
   ]
  },
  {
   "cell_type": "code",
   "execution_count": null,
   "id": "62cfdf55",
   "metadata": {},
   "outputs": [],
   "source": [
    "top_5_products = df.nlargest(7, 'rating')[['product','rating']]\n",
    "plt.bar(top_5_products['product'], top_5_products['rating'], color='#2B7A78')\n",
    "plt.xlabel('Product')\n",
    "plt.ylabel('Rating')\n",
    "plt.title('Top 5 Products by Rating')\n",
    "plt.xticks(rotation=45, ha='right')\n",
    "plt.tight_layout()\n",
    "plt.show()"
   ]
  },
  {
   "cell_type": "markdown",
   "id": "8726519d",
   "metadata": {},
   "source": [
    "### Least 5 rated products"
   ]
  },
  {
   "cell_type": "code",
   "execution_count": null,
   "id": "0d7b7ab6",
   "metadata": {},
   "outputs": [],
   "source": [
    "top_5_products = df.nsmallest(7, 'rating')[['product','rating']]\n",
    "plt.bar(top_5_products['product'], top_5_products['rating'], color='lightgreen')\n",
    "plt.xlabel('Product')\n",
    "plt.ylabel('Rating')\n",
    "plt.title('Least 5 Products by Rating')\n",
    "plt.xticks(rotation=45, ha='right')\n",
    "plt.show()"
   ]
  }
 ],
 "metadata": {},
 "nbformat": 4,
 "nbformat_minor": 5
}
